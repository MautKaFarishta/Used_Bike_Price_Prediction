{
  "nbformat": 4,
  "nbformat_minor": 0,
  "metadata": {
    "colab": {
      "name": "usedBikesPricePrediction.ipynb",
      "provenance": []
    },
    "kernelspec": {
      "name": "python3",
      "display_name": "Python 3"
    },
    "language_info": {
      "name": "python"
    }
  },
  "cells": [
    {
      "cell_type": "code",
      "metadata": {
        "id": "FsHjJlbwOMSG"
      },
      "source": [
        "import pandas as pd\n",
        "import matplotlib.pyplot as plt\n",
        "import seaborn as sns\n",
        "from collections import Counter\n",
        "from sklearn.model_selection import train_test_split\n",
        "from sklearn.tree import DecisionTreeRegressor\n",
        "from sklearn.metrics import mean_absolute_error,mean_squared_error\n",
        "from sklearn.ensemble import RandomForestRegressor\n",
        "from xgboost import XGBRegressor\n",
        "from sklearn.preprocessing import OneHotEncoder"
      ],
      "execution_count": 20,
      "outputs": []
    },
    {
      "cell_type": "code",
      "metadata": {
        "colab": {
          "base_uri": "https://localhost:8080/",
          "height": 205
        },
        "id": "QRIQVe09OfiM",
        "outputId": "ab970595-09f9-4c25-917b-d6f73a4c0e3a"
      },
      "source": [
        "data = pd.read_csv('Used_Bikes.csv')\n",
        "data.head()"
      ],
      "execution_count": 21,
      "outputs": [
        {
          "output_type": "execute_result",
          "data": {
            "text/html": [
              "<div>\n",
              "<style scoped>\n",
              "    .dataframe tbody tr th:only-of-type {\n",
              "        vertical-align: middle;\n",
              "    }\n",
              "\n",
              "    .dataframe tbody tr th {\n",
              "        vertical-align: top;\n",
              "    }\n",
              "\n",
              "    .dataframe thead th {\n",
              "        text-align: right;\n",
              "    }\n",
              "</style>\n",
              "<table border=\"1\" class=\"dataframe\">\n",
              "  <thead>\n",
              "    <tr style=\"text-align: right;\">\n",
              "      <th></th>\n",
              "      <th>bike_name</th>\n",
              "      <th>price</th>\n",
              "      <th>city</th>\n",
              "      <th>kms_driven</th>\n",
              "      <th>owner</th>\n",
              "      <th>age</th>\n",
              "      <th>power</th>\n",
              "      <th>brand</th>\n",
              "    </tr>\n",
              "  </thead>\n",
              "  <tbody>\n",
              "    <tr>\n",
              "      <th>0</th>\n",
              "      <td>TVS Star City Plus Dual Tone 110cc</td>\n",
              "      <td>35000.0</td>\n",
              "      <td>Ahmedabad</td>\n",
              "      <td>17654.0</td>\n",
              "      <td>First Owner</td>\n",
              "      <td>3.0</td>\n",
              "      <td>110.0</td>\n",
              "      <td>TVS</td>\n",
              "    </tr>\n",
              "    <tr>\n",
              "      <th>1</th>\n",
              "      <td>Royal Enfield Classic 350cc</td>\n",
              "      <td>119900.0</td>\n",
              "      <td>Delhi</td>\n",
              "      <td>11000.0</td>\n",
              "      <td>First Owner</td>\n",
              "      <td>4.0</td>\n",
              "      <td>350.0</td>\n",
              "      <td>Royal Enfield</td>\n",
              "    </tr>\n",
              "    <tr>\n",
              "      <th>2</th>\n",
              "      <td>Triumph Daytona 675R</td>\n",
              "      <td>600000.0</td>\n",
              "      <td>Delhi</td>\n",
              "      <td>110.0</td>\n",
              "      <td>First Owner</td>\n",
              "      <td>8.0</td>\n",
              "      <td>675.0</td>\n",
              "      <td>Triumph</td>\n",
              "    </tr>\n",
              "    <tr>\n",
              "      <th>3</th>\n",
              "      <td>TVS Apache RTR 180cc</td>\n",
              "      <td>65000.0</td>\n",
              "      <td>Bangalore</td>\n",
              "      <td>16329.0</td>\n",
              "      <td>First Owner</td>\n",
              "      <td>4.0</td>\n",
              "      <td>180.0</td>\n",
              "      <td>TVS</td>\n",
              "    </tr>\n",
              "    <tr>\n",
              "      <th>4</th>\n",
              "      <td>Yamaha FZ S V 2.0 150cc-Ltd. Edition</td>\n",
              "      <td>80000.0</td>\n",
              "      <td>Bangalore</td>\n",
              "      <td>10000.0</td>\n",
              "      <td>First Owner</td>\n",
              "      <td>3.0</td>\n",
              "      <td>150.0</td>\n",
              "      <td>Yamaha</td>\n",
              "    </tr>\n",
              "  </tbody>\n",
              "</table>\n",
              "</div>"
            ],
            "text/plain": [
              "                              bike_name     price  ...  power          brand\n",
              "0    TVS Star City Plus Dual Tone 110cc   35000.0  ...  110.0            TVS\n",
              "1           Royal Enfield Classic 350cc  119900.0  ...  350.0  Royal Enfield\n",
              "2                  Triumph Daytona 675R  600000.0  ...  675.0        Triumph\n",
              "3                  TVS Apache RTR 180cc   65000.0  ...  180.0            TVS\n",
              "4  Yamaha FZ S V 2.0 150cc-Ltd. Edition   80000.0  ...  150.0         Yamaha\n",
              "\n",
              "[5 rows x 8 columns]"
            ]
          },
          "metadata": {
            "tags": []
          },
          "execution_count": 21
        }
      ]
    },
    {
      "cell_type": "code",
      "metadata": {
        "id": "D5-CGPGf4n7H"
      },
      "source": [
        "y = data['price']\n",
        "X = data.drop(['price'],axis = 1)"
      ],
      "execution_count": 22,
      "outputs": []
    },
    {
      "cell_type": "code",
      "metadata": {
        "id": "-POYvi213JB3"
      },
      "source": [
        "# datanew = pd.get_dummies(data = data,drop_first = True)\n",
        "\n",
        "OHE = OneHotEncoder()\n",
        "OHE.fit(X)\n",
        "X = OHE.transform(X)"
      ],
      "execution_count": 23,
      "outputs": []
    },
    {
      "cell_type": "code",
      "metadata": {
        "colab": {
          "base_uri": "https://localhost:8080/"
        },
        "id": "kRLYvLur4bGJ",
        "outputId": "31e4addd-b324-4aef-d1c4-b869dd0d5fbf"
      },
      "source": [
        "X"
      ],
      "execution_count": 24,
      "outputs": [
        {
          "output_type": "execute_result",
          "data": {
            "text/plain": [
              "<32648x4751 sparse matrix of type '<class 'numpy.float64'>'\n",
              "\twith 228536 stored elements in Compressed Sparse Row format>"
            ]
          },
          "metadata": {
            "tags": []
          },
          "execution_count": 24
        }
      ]
    },
    {
      "cell_type": "code",
      "metadata": {
        "id": "-ptvus6X5qwz"
      },
      "source": [
        "X_train, X_test, y_train, y_test = train_test_split(X, y, test_size=0.20, random_state=42)"
      ],
      "execution_count": 25,
      "outputs": []
    },
    {
      "cell_type": "code",
      "metadata": {
        "colab": {
          "base_uri": "https://localhost:8080/"
        },
        "id": "AGXEkqcz5ljG",
        "outputId": "1d5317b5-2116-41cf-fa4f-8f0d56b78a95"
      },
      "source": [
        "tree = DecisionTreeRegressor()\n",
        "tree.fit(X_train,y_train)"
      ],
      "execution_count": 26,
      "outputs": [
        {
          "output_type": "execute_result",
          "data": {
            "text/plain": [
              "DecisionTreeRegressor(ccp_alpha=0.0, criterion='mse', max_depth=None,\n",
              "                      max_features=None, max_leaf_nodes=None,\n",
              "                      min_impurity_decrease=0.0, min_impurity_split=None,\n",
              "                      min_samples_leaf=1, min_samples_split=2,\n",
              "                      min_weight_fraction_leaf=0.0, presort='deprecated',\n",
              "                      random_state=None, splitter='best')"
            ]
          },
          "metadata": {
            "tags": []
          },
          "execution_count": 26
        }
      ]
    },
    {
      "cell_type": "code",
      "metadata": {
        "colab": {
          "base_uri": "https://localhost:8080/"
        },
        "id": "EN87NE3v6E2R",
        "outputId": "6066d511-283a-4a03-92b8-97ed1e0d87f2"
      },
      "source": [
        "print('mean_squared_error   : ',mean_squared_error(y_test,tree.predict(X_test)))\n",
        "print('mean_absolute_error  : ',mean_absolute_error(y_test,tree.predict(X_test)))"
      ],
      "execution_count": 27,
      "outputs": [
        {
          "output_type": "stream",
          "text": [
            "mean_squared_error   :  1215246730.555764\n",
            "mean_absolute_error  :  3602.86010719755\n"
          ],
          "name": "stdout"
        }
      ]
    },
    {
      "cell_type": "code",
      "metadata": {
        "colab": {
          "base_uri": "https://localhost:8080/"
        },
        "id": "4ShEuV7-_3vS",
        "outputId": "a7b5cf52-f69f-4bca-f231-7c57c60eaeab"
      },
      "source": [
        "forest = RandomForestRegressor(n_estimators=300,min_samples_split=2)\n",
        "forest.fit(X_train,y_train)\n",
        "\n",
        "print('mean_squared_error   : ',mean_squared_error(y_test,forest.predict(X_test)))\n",
        "print('mean_absolute_error  : ',mean_absolute_error(y_test,forest.predict(X_test)))"
      ],
      "execution_count": 30,
      "outputs": [
        {
          "output_type": "stream",
          "text": [
            "mean_squared_error   :  1097543956.0105019\n",
            "mean_absolute_error  :  3666.5116461296097\n"
          ],
          "name": "stdout"
        }
      ]
    },
    {
      "cell_type": "code",
      "metadata": {
        "id": "DmQyzi4RBmnO",
        "colab": {
          "base_uri": "https://localhost:8080/"
        },
        "outputId": "f7763511-5c7b-40f2-fa41-5d3e6b46d4cf"
      },
      "source": [
        "def MAPE(X,y):\n",
        "  mape = []\n",
        "  for i,j in zip(y,X):\n",
        "    mape.append(abs((i-j)/i))\n",
        "\n",
        "  return (sum(mape)/len(mape))*100\n",
        "\n",
        "print('DT mape : ',MAPE(tree.predict(X_test),y_test))\n",
        "print('RF mape : ',MAPE(forest.predict(X_test),y_test))"
      ],
      "execution_count": 31,
      "outputs": [
        {
          "output_type": "stream",
          "text": [
            "DT mape :  3.604840500909618\n",
            "RF mape :  3.5660950605824153\n"
          ],
          "name": "stdout"
        }
      ]
    },
    {
      "cell_type": "code",
      "metadata": {
        "id": "UFR1CTYFWqwa"
      },
      "source": [
        ""
      ],
      "execution_count": null,
      "outputs": []
    }
  ]
}